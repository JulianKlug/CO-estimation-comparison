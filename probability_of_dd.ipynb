{
 "cells": [
  {
   "cell_type": "markdown",
   "source": [
    "# Precapillary pulmonary hypertension: diagnostic disagreement between Fick and thermodilution for the measurement of cardiac output"
   ],
   "metadata": {
    "collapsed": false
   },
   "id": "a7fc8241a25d4c76"
  },
  {
   "cell_type": "code",
   "execution_count": 45,
   "id": "initial_id",
   "metadata": {
    "collapsed": true,
    "ExecuteTime": {
     "end_time": "2023-11-19T18:31:53.062378Z",
     "start_time": "2023-11-19T18:31:52.950729Z"
    }
   },
   "outputs": [],
   "source": [
    "import pandas as pd\n",
    "import numpy as np"
   ]
  },
  {
   "cell_type": "code",
   "execution_count": 46,
   "outputs": [],
   "source": [
    "# define limits of agreement, as well as lower and upper bounds of cardiac output\n",
    "LoA = 2\n",
    "CO_lower_bound = 1.3\n",
    "CO_upper_bound = 10.2"
   ],
   "metadata": {
    "collapsed": false,
    "ExecuteTime": {
     "end_time": "2023-11-19T18:31:53.068254Z",
     "start_time": "2023-11-19T18:31:52.955710Z"
    }
   },
   "id": "d097307f6a435ebc"
  },
  {
   "cell_type": "code",
   "execution_count": 47,
   "outputs": [],
   "source": [
    "mPAP = 22\n",
    "PAWP = 10\n",
    "COtd = 4"
   ],
   "metadata": {
    "collapsed": false,
    "ExecuteTime": {
     "end_time": "2023-11-19T18:31:53.069193Z",
     "start_time": "2023-11-19T18:31:52.959598Z"
    }
   },
   "id": "232319f7d8751f17"
  },
  {
   "cell_type": "code",
   "execution_count": 48,
   "outputs": [],
   "source": [
    "def PVR_calc(mPAP, PAWP, CO):\n",
    "    # transpulmonary pressure gradient\n",
    "    TPG = mPAP - PAWP\n",
    "    PVR = TPG/CO\n",
    "    return PVR"
   ],
   "metadata": {
    "collapsed": false,
    "ExecuteTime": {
     "end_time": "2023-11-19T18:31:53.145249Z",
     "start_time": "2023-11-19T18:31:52.963745Z"
    }
   },
   "id": "a66e644f61047dfe"
  },
  {
   "cell_type": "code",
   "execution_count": 49,
   "outputs": [
    {
     "data": {
      "text/plain": "3.0"
     },
     "execution_count": 49,
     "metadata": {},
     "output_type": "execute_result"
    }
   ],
   "source": [
    "PVR_calc(mPAP, PAWP, COtd)"
   ],
   "metadata": {
    "collapsed": false,
    "ExecuteTime": {
     "end_time": "2023-11-19T18:31:53.207802Z",
     "start_time": "2023-11-19T18:31:52.969185Z"
    }
   },
   "id": "157da05eb1d29c4f"
  },
  {
   "cell_type": "code",
   "execution_count": 50,
   "outputs": [],
   "source": [
    "def meets_PcPH_criteria(mPAP, PAWP, CO, PVR_limit=3):\n",
    "    PVR = PVR_calc(mPAP, PAWP, CO)\n",
    "    if PVR >= PVR_limit:\n",
    "        return True\n",
    "    else:\n",
    "        return False"
   ],
   "metadata": {
    "collapsed": false,
    "ExecuteTime": {
     "end_time": "2023-11-19T18:31:53.237030Z",
     "start_time": "2023-11-19T18:31:52.972016Z"
    }
   },
   "id": "c85ffe0c82b68adb"
  },
  {
   "cell_type": "code",
   "execution_count": 51,
   "outputs": [
    {
     "data": {
      "text/plain": "True"
     },
     "execution_count": 51,
     "metadata": {},
     "output_type": "execute_result"
    }
   ],
   "source": [
    "meets_PcPH_criteria(mPAP, PAWP, COtd)"
   ],
   "metadata": {
    "collapsed": false,
    "ExecuteTime": {
     "end_time": "2023-11-19T18:31:53.247257Z",
     "start_time": "2023-11-19T18:31:52.978508Z"
    }
   },
   "id": "adf2709abecb766b"
  },
  {
   "cell_type": "markdown",
   "source": [
    "## Probability of diagnostic disagreement\n",
    "\n",
    "Goal: compute probability of diagnostic disagreement (DD+ & DD-) given limits of CO\n",
    "- where Ir is the probability that the CO is within the pre-specified limits [ar, br]\n",
    "\n",
    "P(DD|Ir) = P(DD ∩ Ir) / P(Ir)\n",
    "\n"
   ],
   "metadata": {
    "collapsed": false
   },
   "id": "68774570f664d30f"
  },
  {
   "cell_type": "markdown",
   "source": [
    "### Computation of P(DD ∩ Ir)\n",
    "\n",
    "P(DD+ ∩ Ir)=P(COm − br ≤ X ≤ min(COm − TPG/3, COm − ar)\n",
    "\n",
    "P(DD− ∩ Ir)=P(max(COm − TPG/3, COm − br) ≤ X ≤ COm − ar)\n",
    "\n",
    "Nomenclature: *Proba numérateur* (ODS)"
   ],
   "metadata": {
    "collapsed": false
   },
   "id": "4104da259b01133f"
  },
  {
   "cell_type": "code",
   "execution_count": 52,
   "outputs": [],
   "source": [
    "from scipy.stats import norm\n",
    "\n",
    "def P_DD_and_Ir(mPAP, PAWP, COm, ar, br, LoA, PVR_limit=3):\n",
    "    \"\"\"\n",
    "    Compute P(DD ∩ Ir), where Ir is the probability that the CO is within the pre-specified limits [ar, br]\n",
    "    :param mPAP: \n",
    "    :param PAWP: \n",
    "    :param COm: \n",
    "    :param ar: lower bound of CO\n",
    "    :param br: upper bound of CO\n",
    "    :return: \n",
    "    \"\"\"\n",
    "    \n",
    "    # delta to lower and upper bounds of interval\n",
    "    delta_COm_lower_bound = COm - ar\n",
    "    delta_COm_upper_bound = COm - br\n",
    "    \n",
    "    TPG = mPAP - PAWP\n",
    "    PVR_over_limit = COm - TPG/PVR_limit\n",
    "    \n",
    "    # compute lower and upper bounds of probability of P(DD ∩ Ir)\n",
    "    if meets_PcPH_criteria(mPAP, PAWP, COm, PVR_limit=PVR_limit):\n",
    "        # bounds for P(DD+ ∩ Ir)\n",
    "        lower_bound = delta_COm_upper_bound\n",
    "        upper_bound = min(delta_COm_lower_bound, PVR_over_limit)\n",
    "    else:\n",
    "        # bounds for P(DD- ∩ Ir)\n",
    "        lower_bound = max(delta_COm_upper_bound, PVR_over_limit)\n",
    "        upper_bound = delta_COm_lower_bound\n",
    "        \n",
    "    # cumulative distribution function of normal distribution of lower and upper bounds\n",
    "    P_lower_bound = norm.cdf(lower_bound, loc=0, scale=LoA/1.96)\n",
    "    P_upper_bound = norm.cdf(upper_bound, loc=0, scale=LoA/1.96)\n",
    "    \n",
    "    # compute P(DD ∩ Ir)\n",
    "    if upper_bound > lower_bound:\n",
    "        P_DD_and_Ir = P_upper_bound - P_lower_bound\n",
    "    else:\n",
    "        P_DD_and_Ir = 0\n",
    "        \n",
    "    return P_DD_and_Ir    \n",
    "    "
   ],
   "metadata": {
    "collapsed": false,
    "ExecuteTime": {
     "end_time": "2023-11-19T18:31:53.291910Z",
     "start_time": "2023-11-19T18:31:52.982033Z"
    }
   },
   "id": "eed02ce81b812e0b"
  },
  {
   "cell_type": "code",
   "execution_count": 53,
   "outputs": [
    {
     "data": {
      "text/plain": "0.49999999938391293"
     },
     "execution_count": 53,
     "metadata": {},
     "output_type": "execute_result"
    }
   ],
   "source": [
    "P_DD_and_Ir(mPAP, PAWP, COm=COtd, ar=CO_lower_bound, br=CO_upper_bound, LoA=LoA)"
   ],
   "metadata": {
    "collapsed": false,
    "ExecuteTime": {
     "end_time": "2023-11-19T18:31:53.292255Z",
     "start_time": "2023-11-19T18:31:52.989328Z"
    }
   },
   "id": "932a07e6df8dc478"
  },
  {
   "cell_type": "markdown",
   "source": [
    "### Computation of P(Ir)\n",
    "\n",
    "P(Ir) = P(COm − br ≤ X ≤ COm − ar)\n",
    "\n",
    "Nomenclature: *Proba dénominateur* (ODS)"
   ],
   "metadata": {
    "collapsed": false
   },
   "id": "7bcb6527fc27a349"
  },
  {
   "cell_type": "code",
   "execution_count": 54,
   "outputs": [],
   "source": [
    "def P_Ir(COm, ar, br, LoA):\n",
    "    \"\"\"\n",
    "    Compute P(Ir), where Ir is the probability that the CO is within the pre-specified limits [ar, br]\n",
    "    :param COm: \n",
    "    :param ar: lower bound of CO\n",
    "    :param br: upper bound of CO\n",
    "    :return: \n",
    "    \"\"\"\n",
    "    # delta to lower and upper bounds of interval\n",
    "    delta_COm_lower_bound = COm - ar\n",
    "    delta_COm_upper_bound = COm - br\n",
    "    \n",
    "    # cumulative distribution function of normal distribution of lower and upper bounds\n",
    "    P_lower_bound = norm.cdf(delta_COm_upper_bound, loc=0, scale=LoA/1.96)\n",
    "    P_upper_bound = norm.cdf(delta_COm_lower_bound, loc=0, scale=LoA/1.96)\n",
    "    \n",
    "    # compute P(Ir)\n",
    "    if delta_COm_lower_bound > delta_COm_upper_bound:\n",
    "        P_Ir = P_upper_bound - P_lower_bound\n",
    "    else:\n",
    "        P_Ir = 0\n",
    "        \n",
    "    return P_Ir"
   ],
   "metadata": {
    "collapsed": false,
    "ExecuteTime": {
     "end_time": "2023-11-19T18:31:53.297860Z",
     "start_time": "2023-11-19T18:31:52.994733Z"
    }
   },
   "id": "9b3b82d12b2e2837"
  },
  {
   "cell_type": "code",
   "execution_count": 55,
   "outputs": [
    {
     "data": {
      "text/plain": "0.9959275085605617"
     },
     "execution_count": 55,
     "metadata": {},
     "output_type": "execute_result"
    }
   ],
   "source": [
    "P_Ir(COm=COtd, ar=CO_lower_bound, br=CO_upper_bound, LoA=LoA)"
   ],
   "metadata": {
    "collapsed": false,
    "ExecuteTime": {
     "end_time": "2023-11-19T18:31:53.312272Z",
     "start_time": "2023-11-19T18:31:52.998735Z"
    }
   },
   "id": "803caa2a61345d4b"
  },
  {
   "cell_type": "markdown",
   "source": [
    "### Computation of P(DD|Ir) "
   ],
   "metadata": {
    "collapsed": false
   },
   "id": "ff578762f9de84db"
  },
  {
   "cell_type": "code",
   "execution_count": 56,
   "outputs": [],
   "source": [
    "def P_DD_plus_given_Ir(mPAP, PAWP, COm, ar, br, LoA, PVR_limit=3):\n",
    "    \"\"\"\n",
    "    Compute P(DD+|Ir), where Ir is the probability that the CO is within the pre-specified limits [ar, br]\n",
    "    :param mPAP: \n",
    "    :param PAWP: \n",
    "    :param COm: \n",
    "    :param ar: lower bound of CO\n",
    "    :param br: upper bound of CO\n",
    "    :return: \n",
    "    \"\"\"\n",
    "    P_DD_and_Ir_value = P_DD_and_Ir(mPAP, PAWP, COm, ar, br, LoA, PVR_limit)\n",
    "    P_Ir_value = P_Ir(COm, ar, br, LoA)\n",
    "    \n",
    "    # only valid if PcPH criteria are met\n",
    "    if meets_PcPH_criteria(mPAP, PAWP, COm, PVR_limit=PVR_limit):\n",
    "        P_DD_plus_given_Ir = P_DD_and_Ir_value / P_Ir_value\n",
    "    else:\n",
    "        P_DD_plus_given_Ir = 0\n",
    "        \n",
    "    return P_DD_plus_given_Ir"
   ],
   "metadata": {
    "collapsed": false,
    "ExecuteTime": {
     "end_time": "2023-11-19T18:31:53.312790Z",
     "start_time": "2023-11-19T18:31:53.007843Z"
    }
   },
   "id": "18bfae91159e2d47"
  },
  {
   "cell_type": "code",
   "execution_count": 57,
   "outputs": [],
   "source": [
    "def P_DD_minus_given_Ir(mPAP, PAWP, COm, ar, br, LoA, PVR_limit=3):\n",
    "    \"\"\"\n",
    "    Compute P(DD-|Ir), where Ir is the probability that the CO is within the pre-specified limits [ar, br]\n",
    "    :param mPAP: \n",
    "    :param PAWP: \n",
    "    :param COm: \n",
    "    :param ar: lower bound of CO\n",
    "    :param br: upper bound of CO\n",
    "    :return: \n",
    "    \"\"\"\n",
    "    # if input not nan\n",
    "    if np.isnan(mPAP) or np.isnan(PAWP) or np.isnan(COm):\n",
    "        return np.nan\n",
    "    \n",
    "    P_DD_and_Ir_value = P_DD_and_Ir(mPAP, PAWP, COm, ar, br, LoA, PVR_limit)\n",
    "    P_Ir_value = P_Ir(COm, ar, br, LoA)\n",
    "    \n",
    "    # only valid if PcPH criteria are not met\n",
    "    if not meets_PcPH_criteria(mPAP, PAWP, COm, PVR_limit=PVR_limit):\n",
    "        P_DD_minus_given_Ir = P_DD_and_Ir_value / P_Ir_value\n",
    "    else:\n",
    "        P_DD_minus_given_Ir = 0\n",
    "        \n",
    "    return P_DD_minus_given_Ir"
   ],
   "metadata": {
    "collapsed": false,
    "ExecuteTime": {
     "end_time": "2023-11-19T18:31:53.312948Z",
     "start_time": "2023-11-19T18:31:53.012957Z"
    }
   },
   "id": "c8afd54bd6359d8b"
  },
  {
   "cell_type": "code",
   "execution_count": 58,
   "outputs": [
    {
     "data": {
      "text/plain": "(0.5020445716039866, 0)"
     },
     "execution_count": 58,
     "metadata": {},
     "output_type": "execute_result"
    }
   ],
   "source": [
    "P_DD_plus_given_Ir(mPAP, PAWP, COm=COtd, ar=CO_lower_bound, br=CO_upper_bound, LoA=LoA), P_DD_minus_given_Ir(mPAP, PAWP, COm=COtd, ar=CO_lower_bound, br=CO_upper_bound, LoA=LoA)\n"
   ],
   "metadata": {
    "collapsed": false,
    "ExecuteTime": {
     "end_time": "2023-11-19T18:31:53.313315Z",
     "start_time": "2023-11-19T18:31:53.018227Z"
    }
   },
   "id": "4f58cd4d3b722326"
  },
  {
   "cell_type": "markdown",
   "source": [
    "## Verify consistency of results"
   ],
   "metadata": {
    "collapsed": false
   },
   "id": "2ff986fd2c7209db"
  },
  {
   "cell_type": "code",
   "execution_count": 59,
   "outputs": [],
   "source": [
    "original_computation_data_path = '/Users/jk1/Library/CloudStorage/OneDrive-unige.ch/icu_research/co_method/ProbabilityOfDD.ods'"
   ],
   "metadata": {
    "collapsed": false,
    "ExecuteTime": {
     "end_time": "2023-11-19T18:31:53.313455Z",
     "start_time": "2023-11-19T18:31:53.022264Z"
    }
   },
   "id": "aa5b63d4a6bf640e"
  },
  {
   "cell_type": "code",
   "execution_count": 60,
   "outputs": [],
   "source": [
    "original_computation_data = pd.read_excel(original_computation_data_path, sheet_name='DD with conditions new formula', header=8, index_col=0)"
   ],
   "metadata": {
    "collapsed": false,
    "ExecuteTime": {
     "end_time": "2023-11-19T18:31:54.963066Z",
     "start_time": "2023-11-19T18:31:53.026993Z"
    }
   },
   "id": "fb692d31ce97f65c"
  },
  {
   "cell_type": "code",
   "execution_count": 61,
   "outputs": [
    {
     "data": {
      "text/plain": "         mPAP  PAWP  COm       PVRm  Unnamed: 5 fit with previous formula  \\\nPatient                                                                     \nNaN      20.0  15.0   1.0  5.000000         NaN                       YES   \nNaN      20.0  15.0   2.0  2.500000         NaN                       YES   \nNaN      22.0  10.0   4.0  3.000000         NaN                       YES   \nNaN      22.0  10.0   3.8  3.157895         NaN                       YES   \nNaN      22.0  10.0   3.6  3.333333         NaN                       YES   \n\n         Unnamed: 7 PcPH     DD+ (%)  DD- (%)  ...  lower bound  upper bound  \\\nPatient                                        ...                             \nNaN             NaN  yes  100.000000      0.0  ...   -11.000000         -1.0   \nNaN             NaN   no    0.000000      0.0  ...     0.333333          0.0   \nNaN             NaN  yes   50.002214      0.0  ...    -8.000000          0.0   \nNaN             NaN  yes   34.760188      0.0  ...    -8.200000         -0.2   \nNaN             NaN  yes   21.670563      0.0  ...    -8.400000         -0.4   \n\n         Unnamed: 18  Loi normale lower  Loi normale upper  difference  \\\nPatient                                                                  \nNaN              NaN      2.133036e-103           0.024998    0.024998   \nNaN              NaN       7.432293e-01           0.500000    0.000000   \nNaN              NaN       1.036271e-55           0.500000    0.500000   \nNaN              NaN       2.004694e-58           0.347529    0.347529   \nNaN              NaN       3.327669e-61           0.216520    0.216520   \n\n         Unnamed: 22  loi normale lower  loi normale upper  difference.1  \nPatient                                                                   \nNaN              NaN      2.133036e-103           0.024998      0.024998  \nNaN              NaN       7.731196e-86           0.500000      0.500000  \nNaN              NaN       1.036271e-55           0.999956      0.999956  \nNaN              NaN       2.004694e-58           0.999791      0.999791  \nNaN              NaN       3.327669e-61           0.999144      0.999144  \n\n[5 rows x 25 columns]",
      "text/html": "<div>\n<style scoped>\n    .dataframe tbody tr th:only-of-type {\n        vertical-align: middle;\n    }\n\n    .dataframe tbody tr th {\n        vertical-align: top;\n    }\n\n    .dataframe thead th {\n        text-align: right;\n    }\n</style>\n<table border=\"1\" class=\"dataframe\">\n  <thead>\n    <tr style=\"text-align: right;\">\n      <th></th>\n      <th>mPAP</th>\n      <th>PAWP</th>\n      <th>COm</th>\n      <th>PVRm</th>\n      <th>Unnamed: 5</th>\n      <th>fit with previous formula</th>\n      <th>Unnamed: 7</th>\n      <th>PcPH</th>\n      <th>DD+ (%)</th>\n      <th>DD- (%)</th>\n      <th>...</th>\n      <th>lower bound</th>\n      <th>upper bound</th>\n      <th>Unnamed: 18</th>\n      <th>Loi normale lower</th>\n      <th>Loi normale upper</th>\n      <th>difference</th>\n      <th>Unnamed: 22</th>\n      <th>loi normale lower</th>\n      <th>loi normale upper</th>\n      <th>difference.1</th>\n    </tr>\n    <tr>\n      <th>Patient</th>\n      <th></th>\n      <th></th>\n      <th></th>\n      <th></th>\n      <th></th>\n      <th></th>\n      <th></th>\n      <th></th>\n      <th></th>\n      <th></th>\n      <th></th>\n      <th></th>\n      <th></th>\n      <th></th>\n      <th></th>\n      <th></th>\n      <th></th>\n      <th></th>\n      <th></th>\n      <th></th>\n      <th></th>\n    </tr>\n  </thead>\n  <tbody>\n    <tr>\n      <th>NaN</th>\n      <td>20.0</td>\n      <td>15.0</td>\n      <td>1.0</td>\n      <td>5.000000</td>\n      <td>NaN</td>\n      <td>YES</td>\n      <td>NaN</td>\n      <td>yes</td>\n      <td>100.000000</td>\n      <td>0.0</td>\n      <td>...</td>\n      <td>-11.000000</td>\n      <td>-1.0</td>\n      <td>NaN</td>\n      <td>2.133036e-103</td>\n      <td>0.024998</td>\n      <td>0.024998</td>\n      <td>NaN</td>\n      <td>2.133036e-103</td>\n      <td>0.024998</td>\n      <td>0.024998</td>\n    </tr>\n    <tr>\n      <th>NaN</th>\n      <td>20.0</td>\n      <td>15.0</td>\n      <td>2.0</td>\n      <td>2.500000</td>\n      <td>NaN</td>\n      <td>YES</td>\n      <td>NaN</td>\n      <td>no</td>\n      <td>0.000000</td>\n      <td>0.0</td>\n      <td>...</td>\n      <td>0.333333</td>\n      <td>0.0</td>\n      <td>NaN</td>\n      <td>7.432293e-01</td>\n      <td>0.500000</td>\n      <td>0.000000</td>\n      <td>NaN</td>\n      <td>7.731196e-86</td>\n      <td>0.500000</td>\n      <td>0.500000</td>\n    </tr>\n    <tr>\n      <th>NaN</th>\n      <td>22.0</td>\n      <td>10.0</td>\n      <td>4.0</td>\n      <td>3.000000</td>\n      <td>NaN</td>\n      <td>YES</td>\n      <td>NaN</td>\n      <td>yes</td>\n      <td>50.002214</td>\n      <td>0.0</td>\n      <td>...</td>\n      <td>-8.000000</td>\n      <td>0.0</td>\n      <td>NaN</td>\n      <td>1.036271e-55</td>\n      <td>0.500000</td>\n      <td>0.500000</td>\n      <td>NaN</td>\n      <td>1.036271e-55</td>\n      <td>0.999956</td>\n      <td>0.999956</td>\n    </tr>\n    <tr>\n      <th>NaN</th>\n      <td>22.0</td>\n      <td>10.0</td>\n      <td>3.8</td>\n      <td>3.157895</td>\n      <td>NaN</td>\n      <td>YES</td>\n      <td>NaN</td>\n      <td>yes</td>\n      <td>34.760188</td>\n      <td>0.0</td>\n      <td>...</td>\n      <td>-8.200000</td>\n      <td>-0.2</td>\n      <td>NaN</td>\n      <td>2.004694e-58</td>\n      <td>0.347529</td>\n      <td>0.347529</td>\n      <td>NaN</td>\n      <td>2.004694e-58</td>\n      <td>0.999791</td>\n      <td>0.999791</td>\n    </tr>\n    <tr>\n      <th>NaN</th>\n      <td>22.0</td>\n      <td>10.0</td>\n      <td>3.6</td>\n      <td>3.333333</td>\n      <td>NaN</td>\n      <td>YES</td>\n      <td>NaN</td>\n      <td>yes</td>\n      <td>21.670563</td>\n      <td>0.0</td>\n      <td>...</td>\n      <td>-8.400000</td>\n      <td>-0.4</td>\n      <td>NaN</td>\n      <td>3.327669e-61</td>\n      <td>0.216520</td>\n      <td>0.216520</td>\n      <td>NaN</td>\n      <td>3.327669e-61</td>\n      <td>0.999144</td>\n      <td>0.999144</td>\n    </tr>\n  </tbody>\n</table>\n<p>5 rows × 25 columns</p>\n</div>"
     },
     "execution_count": 61,
     "metadata": {},
     "output_type": "execute_result"
    }
   ],
   "source": [
    "original_computation_data.head()"
   ],
   "metadata": {
    "collapsed": false,
    "ExecuteTime": {
     "end_time": "2023-11-19T18:31:55.006207Z",
     "start_time": "2023-11-19T18:31:54.980296Z"
    }
   },
   "id": "640526a06476c8f7"
  },
  {
   "cell_type": "code",
   "execution_count": 62,
   "outputs": [],
   "source": [
    "original_computation_data['recomputed_DD+'] = original_computation_data.apply(lambda row: P_DD_plus_given_Ir(row['mPAP'], row['PAWP'], row['COm '], CO_lower_bound, CO_upper_bound, LoA), axis=1)\n",
    "original_computation_data['delta_DD+'] = original_computation_data['DD+ (%)'] - original_computation_data['recomputed_DD+'] * 100"
   ],
   "metadata": {
    "collapsed": false,
    "ExecuteTime": {
     "end_time": "2023-11-19T18:31:55.037952Z",
     "start_time": "2023-11-19T18:31:55.001386Z"
    }
   },
   "id": "ae0192b4cdb32909"
  },
  {
   "cell_type": "code",
   "execution_count": 63,
   "outputs": [
    {
     "data": {
      "text/plain": "            DD+ (%)  recomputed_DD+  delta_DD+\nPatient                                       \nNaN      100.000000        0.668014  33.198552\nNaN        0.000000        0.000000   0.000000\nNaN       50.002214        0.502045  -0.202243\nNaN       34.760188        0.425343  -7.774135\nNaN       21.670563        0.351785 -13.507940\nNaN       12.016210        0.283886 -16.372358\nNaN        5.899133        0.223516 -16.452513\nNaN        2.563881        0.171763 -14.612426\nNaN        0.991588        0.128923 -11.900682\nNaN       51.354141        0.493549   1.999236\nNaN        0.000000        0.000000   0.000000\nNaN       25.678207        0.373481 -11.669893\nNaN        0.000000        0.000000   0.000000\nNaN        0.000000        0.000000   0.000000\nNaN        0.000000        0.000000   0.000000\nNaN        0.000000        0.000000   0.000000\nNaN        0.000000        0.000000   0.000000\nNaN        0.000000        0.000000   0.000000\nNaN        0.000000        0.000000   0.000000\nNaN       60.833017        0.552352   5.597769\nNaN        0.000000        0.000000   0.000000\nNaN        0.000000        0.000000   0.000000\nNaN        0.000000        0.000000   0.000000\nNaN        0.000000        0.000000   0.000000\nNaN        0.000000        0.000000   0.000000\nNaN        0.000000        0.000000   0.000000\nNaN        0.000000        0.000000   0.000000",
      "text/html": "<div>\n<style scoped>\n    .dataframe tbody tr th:only-of-type {\n        vertical-align: middle;\n    }\n\n    .dataframe tbody tr th {\n        vertical-align: top;\n    }\n\n    .dataframe thead th {\n        text-align: right;\n    }\n</style>\n<table border=\"1\" class=\"dataframe\">\n  <thead>\n    <tr style=\"text-align: right;\">\n      <th></th>\n      <th>DD+ (%)</th>\n      <th>recomputed_DD+</th>\n      <th>delta_DD+</th>\n    </tr>\n    <tr>\n      <th>Patient</th>\n      <th></th>\n      <th></th>\n      <th></th>\n    </tr>\n  </thead>\n  <tbody>\n    <tr>\n      <th>NaN</th>\n      <td>100.000000</td>\n      <td>0.668014</td>\n      <td>33.198552</td>\n    </tr>\n    <tr>\n      <th>NaN</th>\n      <td>0.000000</td>\n      <td>0.000000</td>\n      <td>0.000000</td>\n    </tr>\n    <tr>\n      <th>NaN</th>\n      <td>50.002214</td>\n      <td>0.502045</td>\n      <td>-0.202243</td>\n    </tr>\n    <tr>\n      <th>NaN</th>\n      <td>34.760188</td>\n      <td>0.425343</td>\n      <td>-7.774135</td>\n    </tr>\n    <tr>\n      <th>NaN</th>\n      <td>21.670563</td>\n      <td>0.351785</td>\n      <td>-13.507940</td>\n    </tr>\n    <tr>\n      <th>NaN</th>\n      <td>12.016210</td>\n      <td>0.283886</td>\n      <td>-16.372358</td>\n    </tr>\n    <tr>\n      <th>NaN</th>\n      <td>5.899133</td>\n      <td>0.223516</td>\n      <td>-16.452513</td>\n    </tr>\n    <tr>\n      <th>NaN</th>\n      <td>2.563881</td>\n      <td>0.171763</td>\n      <td>-14.612426</td>\n    </tr>\n    <tr>\n      <th>NaN</th>\n      <td>0.991588</td>\n      <td>0.128923</td>\n      <td>-11.900682</td>\n    </tr>\n    <tr>\n      <th>NaN</th>\n      <td>51.354141</td>\n      <td>0.493549</td>\n      <td>1.999236</td>\n    </tr>\n    <tr>\n      <th>NaN</th>\n      <td>0.000000</td>\n      <td>0.000000</td>\n      <td>0.000000</td>\n    </tr>\n    <tr>\n      <th>NaN</th>\n      <td>25.678207</td>\n      <td>0.373481</td>\n      <td>-11.669893</td>\n    </tr>\n    <tr>\n      <th>NaN</th>\n      <td>0.000000</td>\n      <td>0.000000</td>\n      <td>0.000000</td>\n    </tr>\n    <tr>\n      <th>NaN</th>\n      <td>0.000000</td>\n      <td>0.000000</td>\n      <td>0.000000</td>\n    </tr>\n    <tr>\n      <th>NaN</th>\n      <td>0.000000</td>\n      <td>0.000000</td>\n      <td>0.000000</td>\n    </tr>\n    <tr>\n      <th>NaN</th>\n      <td>0.000000</td>\n      <td>0.000000</td>\n      <td>0.000000</td>\n    </tr>\n    <tr>\n      <th>NaN</th>\n      <td>0.000000</td>\n      <td>0.000000</td>\n      <td>0.000000</td>\n    </tr>\n    <tr>\n      <th>NaN</th>\n      <td>0.000000</td>\n      <td>0.000000</td>\n      <td>0.000000</td>\n    </tr>\n    <tr>\n      <th>NaN</th>\n      <td>0.000000</td>\n      <td>0.000000</td>\n      <td>0.000000</td>\n    </tr>\n    <tr>\n      <th>NaN</th>\n      <td>60.833017</td>\n      <td>0.552352</td>\n      <td>5.597769</td>\n    </tr>\n    <tr>\n      <th>NaN</th>\n      <td>0.000000</td>\n      <td>0.000000</td>\n      <td>0.000000</td>\n    </tr>\n    <tr>\n      <th>NaN</th>\n      <td>0.000000</td>\n      <td>0.000000</td>\n      <td>0.000000</td>\n    </tr>\n    <tr>\n      <th>NaN</th>\n      <td>0.000000</td>\n      <td>0.000000</td>\n      <td>0.000000</td>\n    </tr>\n    <tr>\n      <th>NaN</th>\n      <td>0.000000</td>\n      <td>0.000000</td>\n      <td>0.000000</td>\n    </tr>\n    <tr>\n      <th>NaN</th>\n      <td>0.000000</td>\n      <td>0.000000</td>\n      <td>0.000000</td>\n    </tr>\n    <tr>\n      <th>NaN</th>\n      <td>0.000000</td>\n      <td>0.000000</td>\n      <td>0.000000</td>\n    </tr>\n    <tr>\n      <th>NaN</th>\n      <td>0.000000</td>\n      <td>0.000000</td>\n      <td>0.000000</td>\n    </tr>\n  </tbody>\n</table>\n</div>"
     },
     "execution_count": 63,
     "metadata": {},
     "output_type": "execute_result"
    }
   ],
   "source": [
    "original_computation_data[['DD+ (%)', 'recomputed_DD+', 'delta_DD+']]"
   ],
   "metadata": {
    "collapsed": false,
    "ExecuteTime": {
     "end_time": "2023-11-19T18:31:55.078313Z",
     "start_time": "2023-11-19T18:31:55.009351Z"
    }
   },
   "id": "d09f45d28cdba331"
  },
  {
   "cell_type": "code",
   "execution_count": 64,
   "outputs": [],
   "source": [
    "original_computation_data['recomputed_DD-'] = original_computation_data.apply(lambda row: P_DD_minus_given_Ir(row['mPAP'], row['PAWP'], row['COm '], CO_lower_bound, CO_upper_bound, LoA), axis=1)\n",
    "original_computation_data['delta_DD-'] = original_computation_data['DD- (%)'] - original_computation_data['recomputed_DD-'] * 100"
   ],
   "metadata": {
    "collapsed": false,
    "ExecuteTime": {
     "end_time": "2023-11-19T18:31:55.159417Z",
     "start_time": "2023-11-19T18:31:55.028487Z"
    }
   },
   "id": "4621c69f27fffdb1"
  },
  {
   "cell_type": "code",
   "execution_count": 65,
   "outputs": [
    {
     "data": {
      "text/plain": "           DD- (%)  recomputed_DD-  delta_DD-\nPatient                                      \nNaN       0.000000        0.000000   0.000000\nNaN       0.000000        0.166662 -16.666164\nNaN       0.000000        0.000000   0.000000\nNaN       0.000000        0.000000   0.000000\nNaN       0.000000        0.000000   0.000000\nNaN       0.000000        0.000000   0.000000\nNaN       0.000000        0.000000   0.000000\nNaN       0.000000        0.000000   0.000000\nNaN       0.000000        0.000000   0.000000\nNaN       0.000000        0.000000   0.000000\nNaN       0.000240        0.010965  -1.096290\nNaN       0.000000        0.000000   0.000000\nNaN       0.000000        0.137730 -13.773039\nNaN       0.000000        0.111295 -11.129513\nNaN       0.000000        0.087743  -8.774274\nNaN       0.000000        0.067342  -6.734154\nNaN       0.000000        0.050209  -5.020911\nNaN       0.000000        0.036297  -3.629712\nNaN       0.000000        0.025399  -2.539871\nNaN       0.000000        0.000000   0.000000\nNaN      29.547591        0.387951  -9.247520\nNaN      20.541372        0.328916 -12.350188\nNaN      12.929907        0.272202 -14.290245\nNaN       7.247685        0.219414 -14.693760\nNaN       3.568781        0.171928 -13.624017\nNaN       1.529060        0.130727 -11.543655\nNaN       0.000000             NaN        NaN",
      "text/html": "<div>\n<style scoped>\n    .dataframe tbody tr th:only-of-type {\n        vertical-align: middle;\n    }\n\n    .dataframe tbody tr th {\n        vertical-align: top;\n    }\n\n    .dataframe thead th {\n        text-align: right;\n    }\n</style>\n<table border=\"1\" class=\"dataframe\">\n  <thead>\n    <tr style=\"text-align: right;\">\n      <th></th>\n      <th>DD- (%)</th>\n      <th>recomputed_DD-</th>\n      <th>delta_DD-</th>\n    </tr>\n    <tr>\n      <th>Patient</th>\n      <th></th>\n      <th></th>\n      <th></th>\n    </tr>\n  </thead>\n  <tbody>\n    <tr>\n      <th>NaN</th>\n      <td>0.000000</td>\n      <td>0.000000</td>\n      <td>0.000000</td>\n    </tr>\n    <tr>\n      <th>NaN</th>\n      <td>0.000000</td>\n      <td>0.166662</td>\n      <td>-16.666164</td>\n    </tr>\n    <tr>\n      <th>NaN</th>\n      <td>0.000000</td>\n      <td>0.000000</td>\n      <td>0.000000</td>\n    </tr>\n    <tr>\n      <th>NaN</th>\n      <td>0.000000</td>\n      <td>0.000000</td>\n      <td>0.000000</td>\n    </tr>\n    <tr>\n      <th>NaN</th>\n      <td>0.000000</td>\n      <td>0.000000</td>\n      <td>0.000000</td>\n    </tr>\n    <tr>\n      <th>NaN</th>\n      <td>0.000000</td>\n      <td>0.000000</td>\n      <td>0.000000</td>\n    </tr>\n    <tr>\n      <th>NaN</th>\n      <td>0.000000</td>\n      <td>0.000000</td>\n      <td>0.000000</td>\n    </tr>\n    <tr>\n      <th>NaN</th>\n      <td>0.000000</td>\n      <td>0.000000</td>\n      <td>0.000000</td>\n    </tr>\n    <tr>\n      <th>NaN</th>\n      <td>0.000000</td>\n      <td>0.000000</td>\n      <td>0.000000</td>\n    </tr>\n    <tr>\n      <th>NaN</th>\n      <td>0.000000</td>\n      <td>0.000000</td>\n      <td>0.000000</td>\n    </tr>\n    <tr>\n      <th>NaN</th>\n      <td>0.000240</td>\n      <td>0.010965</td>\n      <td>-1.096290</td>\n    </tr>\n    <tr>\n      <th>NaN</th>\n      <td>0.000000</td>\n      <td>0.000000</td>\n      <td>0.000000</td>\n    </tr>\n    <tr>\n      <th>NaN</th>\n      <td>0.000000</td>\n      <td>0.137730</td>\n      <td>-13.773039</td>\n    </tr>\n    <tr>\n      <th>NaN</th>\n      <td>0.000000</td>\n      <td>0.111295</td>\n      <td>-11.129513</td>\n    </tr>\n    <tr>\n      <th>NaN</th>\n      <td>0.000000</td>\n      <td>0.087743</td>\n      <td>-8.774274</td>\n    </tr>\n    <tr>\n      <th>NaN</th>\n      <td>0.000000</td>\n      <td>0.067342</td>\n      <td>-6.734154</td>\n    </tr>\n    <tr>\n      <th>NaN</th>\n      <td>0.000000</td>\n      <td>0.050209</td>\n      <td>-5.020911</td>\n    </tr>\n    <tr>\n      <th>NaN</th>\n      <td>0.000000</td>\n      <td>0.036297</td>\n      <td>-3.629712</td>\n    </tr>\n    <tr>\n      <th>NaN</th>\n      <td>0.000000</td>\n      <td>0.025399</td>\n      <td>-2.539871</td>\n    </tr>\n    <tr>\n      <th>NaN</th>\n      <td>0.000000</td>\n      <td>0.000000</td>\n      <td>0.000000</td>\n    </tr>\n    <tr>\n      <th>NaN</th>\n      <td>29.547591</td>\n      <td>0.387951</td>\n      <td>-9.247520</td>\n    </tr>\n    <tr>\n      <th>NaN</th>\n      <td>20.541372</td>\n      <td>0.328916</td>\n      <td>-12.350188</td>\n    </tr>\n    <tr>\n      <th>NaN</th>\n      <td>12.929907</td>\n      <td>0.272202</td>\n      <td>-14.290245</td>\n    </tr>\n    <tr>\n      <th>NaN</th>\n      <td>7.247685</td>\n      <td>0.219414</td>\n      <td>-14.693760</td>\n    </tr>\n    <tr>\n      <th>NaN</th>\n      <td>3.568781</td>\n      <td>0.171928</td>\n      <td>-13.624017</td>\n    </tr>\n    <tr>\n      <th>NaN</th>\n      <td>1.529060</td>\n      <td>0.130727</td>\n      <td>-11.543655</td>\n    </tr>\n    <tr>\n      <th>NaN</th>\n      <td>0.000000</td>\n      <td>NaN</td>\n      <td>NaN</td>\n    </tr>\n  </tbody>\n</table>\n</div>"
     },
     "execution_count": 65,
     "metadata": {},
     "output_type": "execute_result"
    }
   ],
   "source": [
    "original_computation_data[['DD- (%)', 'recomputed_DD-', 'delta_DD-']]"
   ],
   "metadata": {
    "collapsed": false,
    "ExecuteTime": {
     "end_time": "2023-11-19T18:31:55.161001Z",
     "start_time": "2023-11-19T18:31:55.036907Z"
    }
   },
   "id": "c16561a7804d3fb6"
  },
  {
   "cell_type": "code",
   "execution_count": 66,
   "outputs": [
    {
     "data": {
      "text/plain": "         mPAP  PAWP  COm       PVRm  Unnamed: 5 fit with previous formula  \\\nPatient                                                                     \nNaN      20.0  15.0   1.0  5.000000         NaN                       YES   \nNaN      20.0  15.0   2.0  2.500000         NaN                       YES   \nNaN      22.0  10.0   4.0  3.000000         NaN                       YES   \nNaN      22.0  10.0   3.8  3.157895         NaN                       YES   \nNaN      22.0  10.0   3.6  3.333333         NaN                       YES   \nNaN      22.0  10.0   3.4  3.529412         NaN                       YES   \nNaN      22.0  10.0   3.2  3.750000         NaN                       YES   \nNaN      22.0  10.0   3.0  4.000000         NaN                       YES   \nNaN      22.0  10.0   2.8  4.285714         NaN                       YES   \nNaN      22.0  15.0   2.0  3.500000         NaN                       YES   \nNaN      22.0  14.0   5.0  1.600000         NaN                       YES   \nNaN      23.0  10.0   4.0  3.250000         NaN                       YES   \nNaN      20.0  15.0   2.2  2.272727         NaN                       YES   \nNaN      20.0  15.0   2.4  2.083333         NaN                       YES   \nNaN      20.0  15.0   2.6  1.923077         NaN                       YES   \nNaN      20.0  15.0   2.8  1.785714         NaN                       YES   \nNaN      20.0  15.0   3.0  1.666667         NaN                       YES   \nNaN      20.0  15.0   3.2  1.562500         NaN                       YES   \nNaN      20.0  15.0   3.4  1.470588         NaN                       YES   \nNaN      22.0  15.0   2.2  3.181818         NaN                       YES   \nNaN      22.0  15.0   2.4  2.916667         NaN                       YES   \nNaN      22.0  15.0   2.6  2.692308         NaN                       YES   \nNaN      22.0  15.0   2.8  2.500000         NaN                       YES   \nNaN      22.0  15.0   3.0  2.333333         NaN                       YES   \nNaN      22.0  15.0   3.2  2.187500         NaN                       YES   \nNaN      22.0  15.0   3.4  2.058824         NaN                       YES   \nNaN       NaN   NaN   NaN       NaN         NaN                       NaN   \n\n         Unnamed: 7 PcPH     DD+ (%)    DD- (%)  ...  Loi normale upper  \\\nPatient                                          ...                      \nNaN             NaN  yes  100.000000   0.000000  ...           0.024998   \nNaN             NaN   no    0.000000   0.000000  ...           0.500000   \nNaN             NaN  yes   50.002214   0.000000  ...           0.500000   \nNaN             NaN  yes   34.760188   0.000000  ...           0.347529   \nNaN             NaN  yes   21.670563   0.000000  ...           0.216520   \nNaN             NaN  yes   12.016210   0.000000  ...           0.119797   \nNaN             NaN  yes    5.899133   0.000000  ...           0.058441   \nNaN             NaN  yes    2.563881   0.000000  ...           0.024998   \nNaN             NaN  yes    0.991588   0.000000  ...           0.009336   \nNaN             NaN  yes   51.354141   0.000000  ...           0.256771   \nNaN             NaN   no    0.000000   0.000240  ...           1.000000   \nNaN             NaN  yes   25.678207   0.000000  ...           0.256771   \nNaN             NaN   no    0.000000   0.000000  ...           0.652471   \nNaN             NaN   no    0.000000   0.000000  ...           0.783480   \nNaN             NaN   no    0.000000   0.000000  ...           0.880203   \nNaN             NaN   no    0.000000   0.000000  ...           0.941559   \nNaN             NaN   no    0.000000   0.000000  ...           0.975002   \nNaN             NaN   no    0.000000   0.000000  ...           0.990664   \nNaN             NaN   no    0.000000   0.000000  ...           0.996965   \nNaN             NaN  yes   60.833017   0.000000  ...           0.396918   \nNaN             NaN   no    0.000000  29.547591  ...           0.783480   \nNaN             NaN   no    0.000000  20.541372  ...           0.880203   \nNaN             NaN   no    0.000000  12.929907  ...           0.941559   \nNaN             NaN   no    0.000000   7.247685  ...           0.975002   \nNaN             NaN   no    0.000000   3.568781  ...           0.990664   \nNaN             NaN   no    0.000000   1.529060  ...           0.996965   \nNaN             NaN  NaN    0.000000   0.000000  ...           0.000044   \n\n         difference  Unnamed: 22  loi normale lower  loi normale upper  \\\nPatient                                                                  \nNaN        0.024998          NaN      2.133036e-103           0.024998   \nNaN        0.000000          NaN       7.731196e-86           0.500000   \nNaN        0.500000          NaN       1.036271e-55           0.999956   \nNaN        0.347529          NaN       2.004694e-58           0.999791   \nNaN        0.216520          NaN       3.327669e-61           0.999144   \nNaN        0.119797          NaN       4.739557e-64           0.996965   \nNaN        0.058441          NaN       5.792019e-67           0.990664   \nNaN        0.024998          NaN       6.073048e-70           0.975002   \nNaN        0.009336          NaN       5.463344e-73           0.941559   \nNaN        0.256771          NaN       7.731196e-86           0.500000   \nNaN        0.000002          NaN       3.853270e-43           1.000000   \nNaN        0.256771          NaN       1.036271e-55           0.999956   \nNaN        0.000000          NaN       1.586274e-82           0.652471   \nNaN        0.000000          NaN       2.792238e-79           0.783480   \nNaN        0.000000          NaN       4.216738e-76           0.880203   \nNaN        0.000000          NaN       5.463344e-73           0.941559   \nNaN        0.000000          NaN       6.073048e-70           0.975002   \nNaN        0.000000          NaN       5.792019e-67           0.990664   \nNaN        0.000000          NaN       4.739557e-64           0.996965   \nNaN        0.396918          NaN       1.586274e-82           0.652471   \nNaN        0.231499          NaN       2.792238e-79           0.783480   \nNaN        0.180806          NaN       4.216738e-76           0.880203   \nNaN        0.121743          NaN       5.463344e-73           0.941559   \nNaN        0.070665          NaN       6.073048e-70           0.975002   \nNaN        0.035355          NaN       5.792019e-67           0.990664   \nNaN        0.015244          NaN       4.739557e-64           0.996965   \nNaN        0.000000          NaN      1.273275e-122           0.000044   \n\n         difference.1  recomputed_DD+  delta_DD+  recomputed_DD-  delta_DD-  \nPatient                                                                      \nNaN          0.024998        0.668014  33.198552        0.000000   0.000000  \nNaN          0.500000        0.000000   0.000000        0.166662 -16.666164  \nNaN          0.999956        0.502045  -0.202243        0.000000   0.000000  \nNaN          0.999791        0.425343  -7.774135        0.000000   0.000000  \nNaN          0.999144        0.351785 -13.507940        0.000000   0.000000  \nNaN          0.996965        0.283886 -16.372358        0.000000   0.000000  \nNaN          0.990664        0.223516 -16.452513        0.000000   0.000000  \nNaN          0.975002        0.171763 -14.612426        0.000000   0.000000  \nNaN          0.941559        0.128923 -11.900682        0.000000   0.000000  \nNaN          0.500000        0.493549   1.999236        0.000000   0.000000  \nNaN          1.000000        0.000000   0.000000        0.010965  -1.096290  \nNaN          0.999956        0.373481 -11.669893        0.000000   0.000000  \nNaN          0.652471        0.000000   0.000000        0.137730 -13.773039  \nNaN          0.783480        0.000000   0.000000        0.111295 -11.129513  \nNaN          0.880203        0.000000   0.000000        0.087743  -8.774274  \nNaN          0.941559        0.000000   0.000000        0.067342  -6.734154  \nNaN          0.975002        0.000000   0.000000        0.050209  -5.020911  \nNaN          0.990664        0.000000   0.000000        0.036297  -3.629712  \nNaN          0.996965        0.000000   0.000000        0.025399  -2.539871  \nNaN          0.652471        0.552352   5.597769        0.000000   0.000000  \nNaN          0.783480        0.000000   0.000000        0.387951  -9.247520  \nNaN          0.880203        0.000000   0.000000        0.328916 -12.350188  \nNaN          0.941559        0.000000   0.000000        0.272202 -14.290245  \nNaN          0.975002        0.000000   0.000000        0.219414 -14.693760  \nNaN          0.990664        0.000000   0.000000        0.171928 -13.624017  \nNaN          0.996965        0.000000   0.000000        0.130727 -11.543655  \nNaN          0.000044        0.000000   0.000000             NaN        NaN  \n\n[27 rows x 29 columns]",
      "text/html": "<div>\n<style scoped>\n    .dataframe tbody tr th:only-of-type {\n        vertical-align: middle;\n    }\n\n    .dataframe tbody tr th {\n        vertical-align: top;\n    }\n\n    .dataframe thead th {\n        text-align: right;\n    }\n</style>\n<table border=\"1\" class=\"dataframe\">\n  <thead>\n    <tr style=\"text-align: right;\">\n      <th></th>\n      <th>mPAP</th>\n      <th>PAWP</th>\n      <th>COm</th>\n      <th>PVRm</th>\n      <th>Unnamed: 5</th>\n      <th>fit with previous formula</th>\n      <th>Unnamed: 7</th>\n      <th>PcPH</th>\n      <th>DD+ (%)</th>\n      <th>DD- (%)</th>\n      <th>...</th>\n      <th>Loi normale upper</th>\n      <th>difference</th>\n      <th>Unnamed: 22</th>\n      <th>loi normale lower</th>\n      <th>loi normale upper</th>\n      <th>difference.1</th>\n      <th>recomputed_DD+</th>\n      <th>delta_DD+</th>\n      <th>recomputed_DD-</th>\n      <th>delta_DD-</th>\n    </tr>\n    <tr>\n      <th>Patient</th>\n      <th></th>\n      <th></th>\n      <th></th>\n      <th></th>\n      <th></th>\n      <th></th>\n      <th></th>\n      <th></th>\n      <th></th>\n      <th></th>\n      <th></th>\n      <th></th>\n      <th></th>\n      <th></th>\n      <th></th>\n      <th></th>\n      <th></th>\n      <th></th>\n      <th></th>\n      <th></th>\n      <th></th>\n    </tr>\n  </thead>\n  <tbody>\n    <tr>\n      <th>NaN</th>\n      <td>20.0</td>\n      <td>15.0</td>\n      <td>1.0</td>\n      <td>5.000000</td>\n      <td>NaN</td>\n      <td>YES</td>\n      <td>NaN</td>\n      <td>yes</td>\n      <td>100.000000</td>\n      <td>0.000000</td>\n      <td>...</td>\n      <td>0.024998</td>\n      <td>0.024998</td>\n      <td>NaN</td>\n      <td>2.133036e-103</td>\n      <td>0.024998</td>\n      <td>0.024998</td>\n      <td>0.668014</td>\n      <td>33.198552</td>\n      <td>0.000000</td>\n      <td>0.000000</td>\n    </tr>\n    <tr>\n      <th>NaN</th>\n      <td>20.0</td>\n      <td>15.0</td>\n      <td>2.0</td>\n      <td>2.500000</td>\n      <td>NaN</td>\n      <td>YES</td>\n      <td>NaN</td>\n      <td>no</td>\n      <td>0.000000</td>\n      <td>0.000000</td>\n      <td>...</td>\n      <td>0.500000</td>\n      <td>0.000000</td>\n      <td>NaN</td>\n      <td>7.731196e-86</td>\n      <td>0.500000</td>\n      <td>0.500000</td>\n      <td>0.000000</td>\n      <td>0.000000</td>\n      <td>0.166662</td>\n      <td>-16.666164</td>\n    </tr>\n    <tr>\n      <th>NaN</th>\n      <td>22.0</td>\n      <td>10.0</td>\n      <td>4.0</td>\n      <td>3.000000</td>\n      <td>NaN</td>\n      <td>YES</td>\n      <td>NaN</td>\n      <td>yes</td>\n      <td>50.002214</td>\n      <td>0.000000</td>\n      <td>...</td>\n      <td>0.500000</td>\n      <td>0.500000</td>\n      <td>NaN</td>\n      <td>1.036271e-55</td>\n      <td>0.999956</td>\n      <td>0.999956</td>\n      <td>0.502045</td>\n      <td>-0.202243</td>\n      <td>0.000000</td>\n      <td>0.000000</td>\n    </tr>\n    <tr>\n      <th>NaN</th>\n      <td>22.0</td>\n      <td>10.0</td>\n      <td>3.8</td>\n      <td>3.157895</td>\n      <td>NaN</td>\n      <td>YES</td>\n      <td>NaN</td>\n      <td>yes</td>\n      <td>34.760188</td>\n      <td>0.000000</td>\n      <td>...</td>\n      <td>0.347529</td>\n      <td>0.347529</td>\n      <td>NaN</td>\n      <td>2.004694e-58</td>\n      <td>0.999791</td>\n      <td>0.999791</td>\n      <td>0.425343</td>\n      <td>-7.774135</td>\n      <td>0.000000</td>\n      <td>0.000000</td>\n    </tr>\n    <tr>\n      <th>NaN</th>\n      <td>22.0</td>\n      <td>10.0</td>\n      <td>3.6</td>\n      <td>3.333333</td>\n      <td>NaN</td>\n      <td>YES</td>\n      <td>NaN</td>\n      <td>yes</td>\n      <td>21.670563</td>\n      <td>0.000000</td>\n      <td>...</td>\n      <td>0.216520</td>\n      <td>0.216520</td>\n      <td>NaN</td>\n      <td>3.327669e-61</td>\n      <td>0.999144</td>\n      <td>0.999144</td>\n      <td>0.351785</td>\n      <td>-13.507940</td>\n      <td>0.000000</td>\n      <td>0.000000</td>\n    </tr>\n    <tr>\n      <th>NaN</th>\n      <td>22.0</td>\n      <td>10.0</td>\n      <td>3.4</td>\n      <td>3.529412</td>\n      <td>NaN</td>\n      <td>YES</td>\n      <td>NaN</td>\n      <td>yes</td>\n      <td>12.016210</td>\n      <td>0.000000</td>\n      <td>...</td>\n      <td>0.119797</td>\n      <td>0.119797</td>\n      <td>NaN</td>\n      <td>4.739557e-64</td>\n      <td>0.996965</td>\n      <td>0.996965</td>\n      <td>0.283886</td>\n      <td>-16.372358</td>\n      <td>0.000000</td>\n      <td>0.000000</td>\n    </tr>\n    <tr>\n      <th>NaN</th>\n      <td>22.0</td>\n      <td>10.0</td>\n      <td>3.2</td>\n      <td>3.750000</td>\n      <td>NaN</td>\n      <td>YES</td>\n      <td>NaN</td>\n      <td>yes</td>\n      <td>5.899133</td>\n      <td>0.000000</td>\n      <td>...</td>\n      <td>0.058441</td>\n      <td>0.058441</td>\n      <td>NaN</td>\n      <td>5.792019e-67</td>\n      <td>0.990664</td>\n      <td>0.990664</td>\n      <td>0.223516</td>\n      <td>-16.452513</td>\n      <td>0.000000</td>\n      <td>0.000000</td>\n    </tr>\n    <tr>\n      <th>NaN</th>\n      <td>22.0</td>\n      <td>10.0</td>\n      <td>3.0</td>\n      <td>4.000000</td>\n      <td>NaN</td>\n      <td>YES</td>\n      <td>NaN</td>\n      <td>yes</td>\n      <td>2.563881</td>\n      <td>0.000000</td>\n      <td>...</td>\n      <td>0.024998</td>\n      <td>0.024998</td>\n      <td>NaN</td>\n      <td>6.073048e-70</td>\n      <td>0.975002</td>\n      <td>0.975002</td>\n      <td>0.171763</td>\n      <td>-14.612426</td>\n      <td>0.000000</td>\n      <td>0.000000</td>\n    </tr>\n    <tr>\n      <th>NaN</th>\n      <td>22.0</td>\n      <td>10.0</td>\n      <td>2.8</td>\n      <td>4.285714</td>\n      <td>NaN</td>\n      <td>YES</td>\n      <td>NaN</td>\n      <td>yes</td>\n      <td>0.991588</td>\n      <td>0.000000</td>\n      <td>...</td>\n      <td>0.009336</td>\n      <td>0.009336</td>\n      <td>NaN</td>\n      <td>5.463344e-73</td>\n      <td>0.941559</td>\n      <td>0.941559</td>\n      <td>0.128923</td>\n      <td>-11.900682</td>\n      <td>0.000000</td>\n      <td>0.000000</td>\n    </tr>\n    <tr>\n      <th>NaN</th>\n      <td>22.0</td>\n      <td>15.0</td>\n      <td>2.0</td>\n      <td>3.500000</td>\n      <td>NaN</td>\n      <td>YES</td>\n      <td>NaN</td>\n      <td>yes</td>\n      <td>51.354141</td>\n      <td>0.000000</td>\n      <td>...</td>\n      <td>0.256771</td>\n      <td>0.256771</td>\n      <td>NaN</td>\n      <td>7.731196e-86</td>\n      <td>0.500000</td>\n      <td>0.500000</td>\n      <td>0.493549</td>\n      <td>1.999236</td>\n      <td>0.000000</td>\n      <td>0.000000</td>\n    </tr>\n    <tr>\n      <th>NaN</th>\n      <td>22.0</td>\n      <td>14.0</td>\n      <td>5.0</td>\n      <td>1.600000</td>\n      <td>NaN</td>\n      <td>YES</td>\n      <td>NaN</td>\n      <td>no</td>\n      <td>0.000000</td>\n      <td>0.000240</td>\n      <td>...</td>\n      <td>1.000000</td>\n      <td>0.000002</td>\n      <td>NaN</td>\n      <td>3.853270e-43</td>\n      <td>1.000000</td>\n      <td>1.000000</td>\n      <td>0.000000</td>\n      <td>0.000000</td>\n      <td>0.010965</td>\n      <td>-1.096290</td>\n    </tr>\n    <tr>\n      <th>NaN</th>\n      <td>23.0</td>\n      <td>10.0</td>\n      <td>4.0</td>\n      <td>3.250000</td>\n      <td>NaN</td>\n      <td>YES</td>\n      <td>NaN</td>\n      <td>yes</td>\n      <td>25.678207</td>\n      <td>0.000000</td>\n      <td>...</td>\n      <td>0.256771</td>\n      <td>0.256771</td>\n      <td>NaN</td>\n      <td>1.036271e-55</td>\n      <td>0.999956</td>\n      <td>0.999956</td>\n      <td>0.373481</td>\n      <td>-11.669893</td>\n      <td>0.000000</td>\n      <td>0.000000</td>\n    </tr>\n    <tr>\n      <th>NaN</th>\n      <td>20.0</td>\n      <td>15.0</td>\n      <td>2.2</td>\n      <td>2.272727</td>\n      <td>NaN</td>\n      <td>YES</td>\n      <td>NaN</td>\n      <td>no</td>\n      <td>0.000000</td>\n      <td>0.000000</td>\n      <td>...</td>\n      <td>0.652471</td>\n      <td>0.000000</td>\n      <td>NaN</td>\n      <td>1.586274e-82</td>\n      <td>0.652471</td>\n      <td>0.652471</td>\n      <td>0.000000</td>\n      <td>0.000000</td>\n      <td>0.137730</td>\n      <td>-13.773039</td>\n    </tr>\n    <tr>\n      <th>NaN</th>\n      <td>20.0</td>\n      <td>15.0</td>\n      <td>2.4</td>\n      <td>2.083333</td>\n      <td>NaN</td>\n      <td>YES</td>\n      <td>NaN</td>\n      <td>no</td>\n      <td>0.000000</td>\n      <td>0.000000</td>\n      <td>...</td>\n      <td>0.783480</td>\n      <td>0.000000</td>\n      <td>NaN</td>\n      <td>2.792238e-79</td>\n      <td>0.783480</td>\n      <td>0.783480</td>\n      <td>0.000000</td>\n      <td>0.000000</td>\n      <td>0.111295</td>\n      <td>-11.129513</td>\n    </tr>\n    <tr>\n      <th>NaN</th>\n      <td>20.0</td>\n      <td>15.0</td>\n      <td>2.6</td>\n      <td>1.923077</td>\n      <td>NaN</td>\n      <td>YES</td>\n      <td>NaN</td>\n      <td>no</td>\n      <td>0.000000</td>\n      <td>0.000000</td>\n      <td>...</td>\n      <td>0.880203</td>\n      <td>0.000000</td>\n      <td>NaN</td>\n      <td>4.216738e-76</td>\n      <td>0.880203</td>\n      <td>0.880203</td>\n      <td>0.000000</td>\n      <td>0.000000</td>\n      <td>0.087743</td>\n      <td>-8.774274</td>\n    </tr>\n    <tr>\n      <th>NaN</th>\n      <td>20.0</td>\n      <td>15.0</td>\n      <td>2.8</td>\n      <td>1.785714</td>\n      <td>NaN</td>\n      <td>YES</td>\n      <td>NaN</td>\n      <td>no</td>\n      <td>0.000000</td>\n      <td>0.000000</td>\n      <td>...</td>\n      <td>0.941559</td>\n      <td>0.000000</td>\n      <td>NaN</td>\n      <td>5.463344e-73</td>\n      <td>0.941559</td>\n      <td>0.941559</td>\n      <td>0.000000</td>\n      <td>0.000000</td>\n      <td>0.067342</td>\n      <td>-6.734154</td>\n    </tr>\n    <tr>\n      <th>NaN</th>\n      <td>20.0</td>\n      <td>15.0</td>\n      <td>3.0</td>\n      <td>1.666667</td>\n      <td>NaN</td>\n      <td>YES</td>\n      <td>NaN</td>\n      <td>no</td>\n      <td>0.000000</td>\n      <td>0.000000</td>\n      <td>...</td>\n      <td>0.975002</td>\n      <td>0.000000</td>\n      <td>NaN</td>\n      <td>6.073048e-70</td>\n      <td>0.975002</td>\n      <td>0.975002</td>\n      <td>0.000000</td>\n      <td>0.000000</td>\n      <td>0.050209</td>\n      <td>-5.020911</td>\n    </tr>\n    <tr>\n      <th>NaN</th>\n      <td>20.0</td>\n      <td>15.0</td>\n      <td>3.2</td>\n      <td>1.562500</td>\n      <td>NaN</td>\n      <td>YES</td>\n      <td>NaN</td>\n      <td>no</td>\n      <td>0.000000</td>\n      <td>0.000000</td>\n      <td>...</td>\n      <td>0.990664</td>\n      <td>0.000000</td>\n      <td>NaN</td>\n      <td>5.792019e-67</td>\n      <td>0.990664</td>\n      <td>0.990664</td>\n      <td>0.000000</td>\n      <td>0.000000</td>\n      <td>0.036297</td>\n      <td>-3.629712</td>\n    </tr>\n    <tr>\n      <th>NaN</th>\n      <td>20.0</td>\n      <td>15.0</td>\n      <td>3.4</td>\n      <td>1.470588</td>\n      <td>NaN</td>\n      <td>YES</td>\n      <td>NaN</td>\n      <td>no</td>\n      <td>0.000000</td>\n      <td>0.000000</td>\n      <td>...</td>\n      <td>0.996965</td>\n      <td>0.000000</td>\n      <td>NaN</td>\n      <td>4.739557e-64</td>\n      <td>0.996965</td>\n      <td>0.996965</td>\n      <td>0.000000</td>\n      <td>0.000000</td>\n      <td>0.025399</td>\n      <td>-2.539871</td>\n    </tr>\n    <tr>\n      <th>NaN</th>\n      <td>22.0</td>\n      <td>15.0</td>\n      <td>2.2</td>\n      <td>3.181818</td>\n      <td>NaN</td>\n      <td>YES</td>\n      <td>NaN</td>\n      <td>yes</td>\n      <td>60.833017</td>\n      <td>0.000000</td>\n      <td>...</td>\n      <td>0.396918</td>\n      <td>0.396918</td>\n      <td>NaN</td>\n      <td>1.586274e-82</td>\n      <td>0.652471</td>\n      <td>0.652471</td>\n      <td>0.552352</td>\n      <td>5.597769</td>\n      <td>0.000000</td>\n      <td>0.000000</td>\n    </tr>\n    <tr>\n      <th>NaN</th>\n      <td>22.0</td>\n      <td>15.0</td>\n      <td>2.4</td>\n      <td>2.916667</td>\n      <td>NaN</td>\n      <td>YES</td>\n      <td>NaN</td>\n      <td>no</td>\n      <td>0.000000</td>\n      <td>29.547591</td>\n      <td>...</td>\n      <td>0.783480</td>\n      <td>0.231499</td>\n      <td>NaN</td>\n      <td>2.792238e-79</td>\n      <td>0.783480</td>\n      <td>0.783480</td>\n      <td>0.000000</td>\n      <td>0.000000</td>\n      <td>0.387951</td>\n      <td>-9.247520</td>\n    </tr>\n    <tr>\n      <th>NaN</th>\n      <td>22.0</td>\n      <td>15.0</td>\n      <td>2.6</td>\n      <td>2.692308</td>\n      <td>NaN</td>\n      <td>YES</td>\n      <td>NaN</td>\n      <td>no</td>\n      <td>0.000000</td>\n      <td>20.541372</td>\n      <td>...</td>\n      <td>0.880203</td>\n      <td>0.180806</td>\n      <td>NaN</td>\n      <td>4.216738e-76</td>\n      <td>0.880203</td>\n      <td>0.880203</td>\n      <td>0.000000</td>\n      <td>0.000000</td>\n      <td>0.328916</td>\n      <td>-12.350188</td>\n    </tr>\n    <tr>\n      <th>NaN</th>\n      <td>22.0</td>\n      <td>15.0</td>\n      <td>2.8</td>\n      <td>2.500000</td>\n      <td>NaN</td>\n      <td>YES</td>\n      <td>NaN</td>\n      <td>no</td>\n      <td>0.000000</td>\n      <td>12.929907</td>\n      <td>...</td>\n      <td>0.941559</td>\n      <td>0.121743</td>\n      <td>NaN</td>\n      <td>5.463344e-73</td>\n      <td>0.941559</td>\n      <td>0.941559</td>\n      <td>0.000000</td>\n      <td>0.000000</td>\n      <td>0.272202</td>\n      <td>-14.290245</td>\n    </tr>\n    <tr>\n      <th>NaN</th>\n      <td>22.0</td>\n      <td>15.0</td>\n      <td>3.0</td>\n      <td>2.333333</td>\n      <td>NaN</td>\n      <td>YES</td>\n      <td>NaN</td>\n      <td>no</td>\n      <td>0.000000</td>\n      <td>7.247685</td>\n      <td>...</td>\n      <td>0.975002</td>\n      <td>0.070665</td>\n      <td>NaN</td>\n      <td>6.073048e-70</td>\n      <td>0.975002</td>\n      <td>0.975002</td>\n      <td>0.000000</td>\n      <td>0.000000</td>\n      <td>0.219414</td>\n      <td>-14.693760</td>\n    </tr>\n    <tr>\n      <th>NaN</th>\n      <td>22.0</td>\n      <td>15.0</td>\n      <td>3.2</td>\n      <td>2.187500</td>\n      <td>NaN</td>\n      <td>YES</td>\n      <td>NaN</td>\n      <td>no</td>\n      <td>0.000000</td>\n      <td>3.568781</td>\n      <td>...</td>\n      <td>0.990664</td>\n      <td>0.035355</td>\n      <td>NaN</td>\n      <td>5.792019e-67</td>\n      <td>0.990664</td>\n      <td>0.990664</td>\n      <td>0.000000</td>\n      <td>0.000000</td>\n      <td>0.171928</td>\n      <td>-13.624017</td>\n    </tr>\n    <tr>\n      <th>NaN</th>\n      <td>22.0</td>\n      <td>15.0</td>\n      <td>3.4</td>\n      <td>2.058824</td>\n      <td>NaN</td>\n      <td>YES</td>\n      <td>NaN</td>\n      <td>no</td>\n      <td>0.000000</td>\n      <td>1.529060</td>\n      <td>...</td>\n      <td>0.996965</td>\n      <td>0.015244</td>\n      <td>NaN</td>\n      <td>4.739557e-64</td>\n      <td>0.996965</td>\n      <td>0.996965</td>\n      <td>0.000000</td>\n      <td>0.000000</td>\n      <td>0.130727</td>\n      <td>-11.543655</td>\n    </tr>\n    <tr>\n      <th>NaN</th>\n      <td>NaN</td>\n      <td>NaN</td>\n      <td>NaN</td>\n      <td>NaN</td>\n      <td>NaN</td>\n      <td>NaN</td>\n      <td>NaN</td>\n      <td>NaN</td>\n      <td>0.000000</td>\n      <td>0.000000</td>\n      <td>...</td>\n      <td>0.000044</td>\n      <td>0.000000</td>\n      <td>NaN</td>\n      <td>1.273275e-122</td>\n      <td>0.000044</td>\n      <td>0.000044</td>\n      <td>0.000000</td>\n      <td>0.000000</td>\n      <td>NaN</td>\n      <td>NaN</td>\n    </tr>\n  </tbody>\n</table>\n<p>27 rows × 29 columns</p>\n</div>"
     },
     "execution_count": 66,
     "metadata": {},
     "output_type": "execute_result"
    }
   ],
   "source": [
    "original_computation_data"
   ],
   "metadata": {
    "collapsed": false,
    "ExecuteTime": {
     "end_time": "2023-11-19T18:31:55.163610Z",
     "start_time": "2023-11-19T18:31:55.053910Z"
    }
   },
   "id": "4f19c5b8f37feaad"
  },
  {
   "cell_type": "code",
   "execution_count": 67,
   "outputs": [
    {
     "data": {
      "text/plain": "0.02499637582041468"
     },
     "execution_count": 67,
     "metadata": {},
     "output_type": "execute_result"
    }
   ],
   "source": [
    "P_DD_minus_given_Ir(23, 15, 6, CO_lower_bound, CO_upper_bound, LoA, PVR_limit=2)"
   ],
   "metadata": {
    "collapsed": false,
    "ExecuteTime": {
     "end_time": "2023-11-19T18:31:55.163930Z",
     "start_time": "2023-11-19T18:31:55.070293Z"
    }
   },
   "id": "bbc212c8e6e907d3"
  },
  {
   "cell_type": "code",
   "execution_count": 68,
   "outputs": [
    {
     "data": {
      "text/plain": "0.3545399239903967"
     },
     "execution_count": 68,
     "metadata": {},
     "output_type": "execute_result"
    }
   ],
   "source": [
    "P_DD_plus_given_Ir(21, 15, 2.5, CO_lower_bound, CO_upper_bound, LoA, PVR_limit=2)"
   ],
   "metadata": {
    "collapsed": false,
    "ExecuteTime": {
     "end_time": "2023-11-19T18:31:55.164180Z",
     "start_time": "2023-11-19T18:31:55.075012Z"
    }
   },
   "id": "82a17e9082295b6c"
  },
  {
   "cell_type": "code",
   "execution_count": 83,
   "outputs": [
    {
     "data": {
      "text/plain": "0"
     },
     "execution_count": 83,
     "metadata": {},
     "output_type": "execute_result"
    }
   ],
   "source": [
    "P_DD_plus_given_Ir(21, 15, 5, 2, 12, LoA, PVR_limit=2)"
   ],
   "metadata": {
    "collapsed": false,
    "ExecuteTime": {
     "end_time": "2023-11-19T20:09:19.607567Z",
     "start_time": "2023-11-19T20:09:19.583683Z"
    }
   },
   "id": "14d720368f72d2d6"
  },
  {
   "cell_type": "code",
   "execution_count": 84,
   "outputs": [
    {
     "data": {
      "text/plain": "0.023395226914097095"
     },
     "execution_count": 84,
     "metadata": {},
     "output_type": "execute_result"
    }
   ],
   "source": [
    "P_DD_minus_given_Ir(21, 15, 5, 2, 12, LoA, PVR_limit=2)"
   ],
   "metadata": {
    "collapsed": false,
    "ExecuteTime": {
     "end_time": "2023-11-19T21:08:39.766061Z",
     "start_time": "2023-11-19T21:08:39.760195Z"
    }
   },
   "id": "e80d781706e63187"
  },
  {
   "cell_type": "code",
   "execution_count": 76,
   "outputs": [
    {
     "data": {
      "text/plain": "(10.2, 1.3)"
     },
     "execution_count": 76,
     "metadata": {},
     "output_type": "execute_result"
    }
   ],
   "source": [
    "CO_upper_bound, CO_lower_bound"
   ],
   "metadata": {
    "collapsed": false,
    "ExecuteTime": {
     "end_time": "2023-11-19T18:34:13.517292Z",
     "start_time": "2023-11-19T18:34:13.490508Z"
    }
   },
   "id": "207c07f742f70a20"
  },
  {
   "cell_type": "markdown",
   "source": [
    "### For a given set of PAWP and mPAP, compute the probability of DD+ and DD- for a range of COm"
   ],
   "metadata": {
    "collapsed": false
   },
   "id": "593f4c026433bc34"
  },
  {
   "cell_type": "code",
   "execution_count": 69,
   "outputs": [],
   "source": [
    "COm_range = np.arange(2, 12, 0.01)"
   ],
   "metadata": {
    "collapsed": false,
    "ExecuteTime": {
     "end_time": "2023-11-19T18:31:55.228763Z",
     "start_time": "2023-11-19T18:31:55.080124Z"
    }
   },
   "id": "564fba28782514c8"
  },
  {
   "cell_type": "code",
   "execution_count": 70,
   "outputs": [],
   "source": [
    "DD_given_Ir = pd.DataFrame(index=COm_range, columns=['DD+ (%)', 'DD- (%)'])\n",
    "DD_given_Ir.index.name = 'COm'\n",
    "DD_given_Ir['PWR'] = DD_given_Ir.apply(lambda row: PVR_calc(mPAP, PAWP, row.name), axis=1)\n",
    "DD_given_Ir['DD+'] = DD_given_Ir.apply(lambda row: P_DD_plus_given_Ir(mPAP, PAWP, row.name, CO_lower_bound, CO_upper_bound, LoA), axis=1)\n",
    "DD_given_Ir['DD-'] = DD_given_Ir.apply(lambda row: P_DD_minus_given_Ir(mPAP, PAWP, row.name, CO_lower_bound, CO_upper_bound, LoA), axis=1)"
   ],
   "metadata": {
    "collapsed": false,
    "ExecuteTime": {
     "end_time": "2023-11-19T18:31:55.804742Z",
     "start_time": "2023-11-19T18:31:55.186441Z"
    }
   },
   "id": "1a2f4e3302328295"
  },
  {
   "cell_type": "code",
   "execution_count": 71,
   "outputs": [
    {
     "data": {
      "text/plain": "      DD+ (%) DD- (%)       PWR       DD+           DD-\nCOm                                                    \n2.00      NaN     NaN  6.000000  0.033169  0.000000e+00\n2.01      NaN     NaN  5.970149  0.033799  0.000000e+00\n2.02      NaN     NaN  5.940594  0.034438  0.000000e+00\n2.03      NaN     NaN  5.911330  0.035089  0.000000e+00\n2.04      NaN     NaN  5.882353  0.035750  0.000000e+00\n...       ...     ...       ...       ...           ...\n11.95     NaN     NaN  1.004184  0.000000  7.714773e-14\n11.96     NaN     NaN  1.003344  0.000000  7.352164e-14\n11.97     NaN     NaN  1.002506  0.000000  6.971432e-14\n11.98     NaN     NaN  1.001669  0.000000  6.571849e-14\n11.99     NaN     NaN  1.000834  0.000000  6.152661e-14\n\n[1000 rows x 5 columns]",
      "text/html": "<div>\n<style scoped>\n    .dataframe tbody tr th:only-of-type {\n        vertical-align: middle;\n    }\n\n    .dataframe tbody tr th {\n        vertical-align: top;\n    }\n\n    .dataframe thead th {\n        text-align: right;\n    }\n</style>\n<table border=\"1\" class=\"dataframe\">\n  <thead>\n    <tr style=\"text-align: right;\">\n      <th></th>\n      <th>DD+ (%)</th>\n      <th>DD- (%)</th>\n      <th>PWR</th>\n      <th>DD+</th>\n      <th>DD-</th>\n    </tr>\n    <tr>\n      <th>COm</th>\n      <th></th>\n      <th></th>\n      <th></th>\n      <th></th>\n      <th></th>\n    </tr>\n  </thead>\n  <tbody>\n    <tr>\n      <th>2.00</th>\n      <td>NaN</td>\n      <td>NaN</td>\n      <td>6.000000</td>\n      <td>0.033169</td>\n      <td>0.000000e+00</td>\n    </tr>\n    <tr>\n      <th>2.01</th>\n      <td>NaN</td>\n      <td>NaN</td>\n      <td>5.970149</td>\n      <td>0.033799</td>\n      <td>0.000000e+00</td>\n    </tr>\n    <tr>\n      <th>2.02</th>\n      <td>NaN</td>\n      <td>NaN</td>\n      <td>5.940594</td>\n      <td>0.034438</td>\n      <td>0.000000e+00</td>\n    </tr>\n    <tr>\n      <th>2.03</th>\n      <td>NaN</td>\n      <td>NaN</td>\n      <td>5.911330</td>\n      <td>0.035089</td>\n      <td>0.000000e+00</td>\n    </tr>\n    <tr>\n      <th>2.04</th>\n      <td>NaN</td>\n      <td>NaN</td>\n      <td>5.882353</td>\n      <td>0.035750</td>\n      <td>0.000000e+00</td>\n    </tr>\n    <tr>\n      <th>...</th>\n      <td>...</td>\n      <td>...</td>\n      <td>...</td>\n      <td>...</td>\n      <td>...</td>\n    </tr>\n    <tr>\n      <th>11.95</th>\n      <td>NaN</td>\n      <td>NaN</td>\n      <td>1.004184</td>\n      <td>0.000000</td>\n      <td>7.714773e-14</td>\n    </tr>\n    <tr>\n      <th>11.96</th>\n      <td>NaN</td>\n      <td>NaN</td>\n      <td>1.003344</td>\n      <td>0.000000</td>\n      <td>7.352164e-14</td>\n    </tr>\n    <tr>\n      <th>11.97</th>\n      <td>NaN</td>\n      <td>NaN</td>\n      <td>1.002506</td>\n      <td>0.000000</td>\n      <td>6.971432e-14</td>\n    </tr>\n    <tr>\n      <th>11.98</th>\n      <td>NaN</td>\n      <td>NaN</td>\n      <td>1.001669</td>\n      <td>0.000000</td>\n      <td>6.571849e-14</td>\n    </tr>\n    <tr>\n      <th>11.99</th>\n      <td>NaN</td>\n      <td>NaN</td>\n      <td>1.000834</td>\n      <td>0.000000</td>\n      <td>6.152661e-14</td>\n    </tr>\n  </tbody>\n</table>\n<p>1000 rows × 5 columns</p>\n</div>"
     },
     "execution_count": 71,
     "metadata": {},
     "output_type": "execute_result"
    }
   ],
   "source": [
    "DD_given_Ir"
   ],
   "metadata": {
    "collapsed": false,
    "ExecuteTime": {
     "end_time": "2023-11-19T18:31:55.826886Z",
     "start_time": "2023-11-19T18:31:55.811163Z"
    }
   },
   "id": "ba90ef17a09ecad4"
  },
  {
   "cell_type": "code",
   "execution_count": 72,
   "outputs": [
    {
     "data": {
      "text/plain": "<Figure size 800x600 with 2 Axes>",
      "image/png": "[encoded data removed]"
     },
     "metadata": {},
     "output_type": "display_data"
    }
   ],
   "source": [
    "# plot probability of DD+ and DD- as a function of PVR\n",
    "import seaborn as sns\n",
    "import matplotlib.pyplot as plt\n",
    "\n",
    "sns.set_style(\"whitegrid\")\n",
    "sns.set_context(\"paper\")\n",
    "\n",
    "fig, ax = plt.subplots(figsize=(8, 6))\n",
    "sns.lineplot(x='PWR', y='DD+', data=DD_given_Ir, ax=ax, label='DD+')\n",
    "sns.lineplot(x='PWR', y='DD-', data=DD_given_Ir, ax=ax, label='DD-')\n",
    "ax.set_xlabel('PVR')\n",
    "ax.set_ylabel('Probability of DD')\n",
    "ax.set_title('Probability of DD+ and DD- as a function of PVR')\n",
    "\n",
    "# set a second x axis with COm\n",
    "ax2 = ax.twinx()\n",
    "sns.lineplot(x='PWR', y='COm', data=DD_given_Ir, ax=ax2, color='black', label='COm', alpha=0.5)\n",
    "ax2.set_ylabel('COm')\n",
    "ax2.set_ylim(2, 12)\n",
    "ax2.set_yticks(np.arange(2, 12, 2))\n",
    "ax2.grid(False)\n",
    "ax2.legend(loc='lower right')\n",
    "\n",
    "plt.show()\n"
   ],
   "metadata": {
    "collapsed": false,
    "ExecuteTime": {
     "end_time": "2023-11-19T18:31:56.226052Z",
     "start_time": "2023-11-19T18:31:55.827284Z"
    }
   },
   "id": "3871c3c24f395446"
  },
  {
   "cell_type": "code",
   "execution_count": 73,
   "outputs": [
    {
     "data": {
      "text/plain": "<Figure size 800x600 with 1 Axes>",
      "image/png": "[encoded data removed]"
     },
     "metadata": {},
     "output_type": "display_data"
    }
   ],
   "source": [
    "# plot probability of DD+ and DD- as a function of COm\n",
    "sns.set_style(\"whitegrid\")\n",
    "sns.set_context(\"paper\")\n",
    "\n",
    "fig, ax = plt.subplots(figsize=(8, 6))\n",
    "\n",
    "sns.lineplot(x='COm', y='DD+', data=DD_given_Ir[DD_given_Ir['DD+']>0], ax=ax, label='DD+')\n",
    "sns.lineplot(x='COm', y='DD-', data=DD_given_Ir[DD_given_Ir['DD-']>0], ax=ax, label='DD-')\n",
    "# sns.lineplot(x='COm', y='PWR', data=DD_given_Ir, ax=ax, color='black', label='PVR', alpha=0.5)\n",
    "ax.set_xlabel('COm')\n",
    "ax.set_ylabel('Probability of DD')\n",
    "ax.set_title('Probability of DD+ and DD- as a function of COm')\n",
    "\n",
    "plt.show()"
   ],
   "metadata": {
    "collapsed": false,
    "ExecuteTime": {
     "end_time": "2023-11-19T18:31:56.473520Z",
     "start_time": "2023-11-19T18:31:56.220654Z"
    }
   },
   "id": "7f80c5bb7c9695c0"
  },
  {
   "cell_type": "code",
   "execution_count": 74,
   "outputs": [
    {
     "data": {
      "text/plain": "<Axes: xlabel='COm'>"
     },
     "execution_count": 74,
     "metadata": {},
     "output_type": "execute_result"
    },
    {
     "data": {
      "text/plain": "<Figure size 800x600 with 1 Axes>",
      "image/png": "[encoded data removed]"
     },
     "metadata": {},
     "output_type": "display_data"
    }
   ],
   "source": [
    "DD_given_Ir.plot.area(y=['DD+', 'DD-'], stacked=False, figsize=(8, 6))"
   ],
   "metadata": {
    "collapsed": false,
    "ExecuteTime": {
     "end_time": "2023-11-19T18:31:56.729293Z",
     "start_time": "2023-11-19T18:31:56.472098Z"
    }
   },
   "id": "6ba92c28910c16f0"
  },
  {
   "cell_type": "code",
   "execution_count": 74,
   "outputs": [],
   "source": [],
   "metadata": {
    "collapsed": false,
    "ExecuteTime": {
     "end_time": "2023-11-19T18:31:56.752711Z",
     "start_time": "2023-11-19T18:31:56.729906Z"
    }
   },
   "id": "e3b0d806dcd80469"
  }
 ],
 "metadata": {
  "kernelspec": {
   "display_name": "Python 3",
   "language": "python",
   "name": "python3"
  },
  "language_info": {
   "codemirror_mode": {
    "name": "ipython",
    "version": 2
   },
   "file_extension": ".py",
   "mimetype": "text/x-python",
   "name": "python",
   "nbconvert_exporter": "python",
   "pygments_lexer": "ipython2",
   "version": "2.7.6"
  }
 },
 "nbformat": 4,
 "nbformat_minor": 5
}
